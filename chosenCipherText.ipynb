{
 "cells": [
  {
   "cell_type": "code",
   "execution_count": 48,
   "metadata": {},
   "outputs": [],
   "source": [
    "from utils import *"
   ]
  },
  {
   "cell_type": "code",
   "execution_count": 118,
   "metadata": {},
   "outputs": [
    {
     "name": "stdout",
     "output_type": "stream",
     "text": [
      "317\n",
      "257\n",
      "75684\n"
     ]
    }
   ],
   "source": [
    "def chosenCipherTextAttack(ciphertext,e,p,q,n):\n",
    "    r  = random.randrange(2,n)\n",
    "    while GCD(r,n) != 1 :\n",
    "        r  = random.randrange(2,n)\n",
    "    r_pow_e = modularExponentiate(r,e,n)\n",
    "    msg_blocks=[]\n",
    "    # if not isinstance(ciphertext,int):\n",
    "    # ciphertext_in_int = [ConvertToInt(ciphertext_block) for ciphertext_block in ciphertext]\n",
    "    # else :\n",
    "        # ciphertext_in_int = ciphertext\n",
    "    for ciphertext_in_int in ciphertext:\n",
    "        c_dash = (ciphertext_in_int * r_pow_e) % n\n",
    "        phi_n = (p-1)*(q-1)\n",
    "        d = modularInverse(e,phi_n)\n",
    "        y = modularExponentiate(c_dash,d,n)\n",
    "        msg = (y * modularInverse(r,n)) % n\n",
    "        msg = ConvertToStr(msg)\n",
    "        msg_blocks.append(y*modularInverse(r,n)% n) \n",
    "    msg_blocks = [ConvertToStr(msg) for msg in msg_blocks]\n",
    "    msg = \"\".join(msg_blocks)\n",
    "    return msg\n",
    "\n",
    "e=7\n",
    "p = generatePrime(8)\n",
    "q = generatePrime(8)\n",
    "n = p*q\n",
    "print(p)\n",
    "print(q)\n",
    "msg = 'be5 afashtak boom tra5 ta5 bomm '\n",
    "msg_blocks = divideMsg(msg,n)\n",
    "# cipher = Encrypt(msg,e,n) \n",
    "# cipher = [Encrypt(block,e,n) for block in msg_blocks]\n",
    "cipher = Encrypt(msg,e,n)\n",
    "print(cipher)\n",
    "# msg2 = chosenCipherTextAttack(cipher,e,p,q,n)\n",
    "# print(msg2)"
   ]
  },
  {
   "cell_type": "code",
   "execution_count": 110,
   "metadata": {},
   "outputs": [
    {
     "name": "stdout",
     "output_type": "stream",
     "text": [
      "[474762064285167439, 362522309653023563, 365510901637986574, 423925369787470696, 952817625079862395, 862408524105909981, 534823910752761982, 218330471156726108, 882942932047149434, 863918602767709978, 702711412472677322, 438637376624200995, 272691247980597875, 872214894931069822, 610668111329457616, 487188577462454504, 183866431419145014, 783452739063091917, 366738546563284916, 964662414312861364, 326145041623991720, 730736669227467794, 511306925561076669, 916842298773310332, 532282472631482948, 395377638308387148, 72631429407447030, 922056718408099907, 872311109605358561, 981310933236818366, 212207464037930527, 47316809376189317, 611244915672726976, 308391351298334664, 398025531901540305, 506768316383294301, 135981362032656543, 533526802966712476, 203034610860401355, 734651660981086838, 66407012826376933, 476543052016060491, 560793381746083238, 212119852204044098, 553977192360955845, 516927330796637833, 96482327602345048, 987229399180553771, 545407027012337210, 140138448310794244, 586632171867499373, 150773989291246687, 90206090575387410, 346144594830328031, 526787944612136323, 32043488179070983, 300308804791579499, 589084185687612815, 689350062235174026, 495118818849760350, 441558611448038523, 169281203905014598, 725170831604229174, 563323578393600203, 252233968779573367, 9384789486323315, 697143697074365736, 240919643461172605, 394724649637264938, 194398439479096699, 209546149168860946, 74586264609404399, 660847284627315052, 157085043955398849, 645328515269345835, 532282472631482948, 83550430334733479, 950955495778456552, 597945674764268191, 62978520531728269, 612462401259621182, 769181592361684937, 4362237859562937, 678298027852566455, 883411298552433348, 756627115317874792, 966271134188056770, 922526108925631374, 267398852386021380, 513141996747024088, 510179915860826697, 508729187388365250, 877711585033094668, 468641237859695664, 772820287169152545, 309967252504901724, 425491190303626627, 797054240513385302, 579809362273543302, 898300850935743377, 622731994216413441, 768739231053910301, 489127880589474674, 343109717853945636, 674528013433716877, 340754693675705865, 631054950339837218, 916456945239332940, 101699313955131254, 512226405247346639, 42164870484066722, 910002973804823359, 693871278521340407, 551378414914236814, 658049035823657719, 791370715997339918, 767974192488576922, 137337497877338847, 132189248427402511, 37792228253694556, 411095133221122040, 578109207450351049, 765596609158457492, 651435958359354167, 271361344586119269, 549128395748867304, 32812237849491041, 96345906621974068, 435694775102069317, 646492971817535038, 250219343884488365, 979187719895958741, 63623032161394489, 813816197345138081, 973307718874512546, 669879105655768132, 58708545912383982, 336202128530741205, 761203388955142792, 890454058956655912, 772820287169152545, 516927330796637833, 987013847072207403, 652436577855539152, 684349559445452108, 964990646021942835, 435888739426978630, 266580953064343226, 366392491456310397, 356128109494168978, 946444289884528319, 771846216407202076, 748527491453874144, 56392970189053919, 415015839684940913, 608503011439013856, 84403237727809954, 878545985284841642, 223001484898499418, 48802341725559912, 236858310041877809, 843148021029279395, 166156366044210642, 678017907106038732, 78115473452230315, 645783751819620461, 775863951437494894, 153556647854883397, 371165815007761648, 316292475588823990, 321213495311697333, 565770243806086270, 581422296995437283, 663827260012729005, 542581484918899943, 598826421080865489, 910485748132786201, 625951809694396965, 4555326644256299, 785797573031065503, 292515429546476702, 215207757268499921, 613241238074754143, 626738438696599145, 530069355181070215, 952486873907889699, 83580636814066861, 204145515568041809, 96482327602345048, 468641237859695664, 780574337727049830, 630194907757414414, 432673497778976726, 574824881525221379, 721269712953671775, 950169191755669675, 864220902362352275, 349739262670440952, 468455200253992539, 23155562732914937, 260582746043882628, 719234665578430336, 730028603904861170, 39399988512090584, 571744351909013473, 334753858092138663, 326870078486527007, 443871492076790913, 50014811023016933, 358683463966822745, 625954991358849039, 148246338344593045, 359513632827058783, 324506929324717843, 200807329715477723, 529528049166677818, 914835003174343998, 159509320679050328, 153556647854883397, 235883864040709394, 84993881790952183, 861962041186120914, 825442742057468454, 258505602616620407, 965234082199782869, 949006952995595647, 446201239240371252, 958183976059057106, 98341188318983841, 127455396373121052, 476288316194896495, 847054386959341305, 149730842346205223, 55056426896073567, 468169728007999731, 322651675474810540, 772820287169152545, 516927330796637833, 601332023246151638]\n",
      "\n",
      " The first parameter to the RSA_public_encrypt function is flen.\n",
      " This is an integer that indicates the number of bytes to encrypt. \n",
      " Its maximum value depends on the padding mode. For OAEP padding, \n",
      " recommended for all new applications, \n",
      " it must be less than the size of the key modulus - 41 (all in bytes)\n",
      " bla bla bla bla bla.\n",
      " \n",
      " The first parameter to the RSA_public_encrypt function is flen.\n",
      " This is an integer that indicates the number of bytes to encrypt. \n",
      " Its maximum value depends on the padding mode. For OAEP padding, \n",
      " recommended for all new applications, \n",
      " it must be less than the size of the key modulus - 41 (all in bytes)\n",
      " bla bla bla bla bla.\n",
      " \n",
      " The first parameter to the RSA_public_encrypt function is flen.\n",
      " This is an integer that indicates the number of bytes to encrypt. \n",
      " Its maximum value depends on the padding mode. For OAEP padding, \n",
      " recommended for all new applications, \n",
      " it must be less than the size of the key modulus - 41 (all in bytes)\n",
      " bla bla bla bla bla.\n",
      " \n",
      " The first parameter to the RSA_public_encrypt function is flen.\n",
      " This is an integer that indicates the number of bytes to encrypt. \n",
      " Its maximum value depends on the padding mode. For OAEP padding, \n",
      " recommended for all new applications, \n",
      " it must be less than the size of the key modulus - 41 (all in bytes)\n",
      " bla bla bla bla bla.\n",
      " \n",
      " The first parameter to the RSA_public_encrypt function is flen.\n",
      " This is an integer that indicates the number of bytes to encrypt. \n",
      " Its maximum value depends on the padding mode. For OAEP padding, \n",
      " recommended for all new applications, \n",
      " it must be less than the size of the key modulus - 41 (all in bytes)\n",
      " bla bla bla bla bla.\n",
      " \n"
     ]
    }
   ],
   "source": [
    "msg = \"\"\"\n",
    " The first parameter to the RSA_public_encrypt function is flen.\n",
    " This is an integer that indicates the number of bytes to encrypt. \n",
    " Its maximum value depends on the padding mode. For OAEP padding, \n",
    " recommended for all new applications, \n",
    " it must be less than the size of the key modulus - 41 (all in bytes)\n",
    " bla bla bla bla bla.\n",
    " \"\"\"*5\n",
    "\n",
    "n= 1000000007*1000000009\n",
    "exponent = 23917\n",
    "# msg_chunks = divideMsg(msg,n)\n",
    "# cipher = [Encrypt(msg,exponent,n) for msg in msg_chunks]\n",
    "# print(cipher)\n",
    "d = getPrivateKey(exponent,1000000007,1000000009)\n",
    "# message = [Decrypt(chunk,d,1000000007,1000000009) for chunk in cipher]\n",
    "# message = \"\".join(message)\n",
    "# print(message)\n",
    "# str_chunks = msgChunkstoStr(msg,1000000007*1000000009)\n",
    "# print(msg_chunks)\n",
    "\n",
    "def encryptEncompass(msg,exponent,modulo):\n",
    "    msg_blocks = divideMsg(msg,modulo)\n",
    "    cipher_blocks = [Encrypt(chunk,exponent,n) for chunk in msg_blocks]\n",
    "    return cipher_blocks\n",
    "\n",
    "def decryptEncompass(cipher_blocks,d,p,q):\n",
    "    message = [Decrypt(chunk,d,p,q) for chunk in cipher_blocks]\n",
    "    message = \"\".join(message)\n",
    "    return message\n",
    "\n",
    "cipher = encryptEncompass(msg,exponent,n)\n",
    "print(cipher)\n",
    "decrypted = decryptEncompass(cipher,d,1000000007,1000000009)\n",
    "print(decrypted)\n",
    "\n"
   ]
  }
 ],
 "metadata": {
  "interpreter": {
   "hash": "82ed002fa2d4956f5c6aec99bcefe0f73a9f79882f3c9e2319b14958a5896ac5"
  },
  "kernelspec": {
   "display_name": "Python 3.9.0 64-bit",
   "language": "python",
   "name": "python3"
  },
  "language_info": {
   "codemirror_mode": {
    "name": "ipython",
    "version": 3
   },
   "file_extension": ".py",
   "mimetype": "text/x-python",
   "name": "python",
   "nbconvert_exporter": "python",
   "pygments_lexer": "ipython3",
   "version": "3.9.0"
  },
  "orig_nbformat": 4
 },
 "nbformat": 4,
 "nbformat_minor": 2
}
