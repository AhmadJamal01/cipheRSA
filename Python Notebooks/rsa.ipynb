{
 "cells": [
  {
   "cell_type": "code",
   "execution_count": 6,
   "metadata": {},
   "outputs": [],
   "source": [
    "import sys, threading\n",
    "import numpy as np\n",
    "import random\n",
    "import time\n",
    "import math\n",
    "import matplotlib.pyplot as plt\n",
    "sys.setrecursionlimit(10 ** 7)\n",
    "threading.stack_size(2 ** 27)\n",
    "random.seed(time.time())"
   ]
  },
  {
   "cell_type": "code",
   "execution_count": 7,
   "metadata": {},
   "outputs": [],
   "source": [
    "def GCD(a, b):\n",
    "    if b == 0:\n",
    "        return a\n",
    "    return GCD(b, a % b)\n",
    "\n",
    "def extendedEuclid(a, b):\n",
    "    if b == 0:\n",
    "        return (1, 0)\n",
    "    (x, y) = extendedEuclid(b, a % b)\n",
    "    k = a // b\n",
    "    return (y, x - k * y)\n",
    "\n",
    "def modularExponentiate(a, n, mod):\n",
    "    if n == 0:\n",
    "        return 1 % mod\n",
    "    elif n == 1:\n",
    "        return a % mod\n",
    "    f = 1\n",
    "    binaryB = bin(n)[2:]\n",
    "    for i in range(len(binaryB)):\n",
    "        f = (f*f) % mod\n",
    "        if binaryB[i] == '1':\n",
    "            f = (f * a) % mod\n",
    "    return f\n",
    "    \n",
    "def modularInverse(a, n):\n",
    "    (b, x) = extendedEuclid(a, n)\n",
    "    if b < 0:\n",
    "        b = (b % n + n) % n\n",
    "    return b\n",
    "\n",
    "def ConvertToInt(message_str):  \n",
    "    res = 0\n",
    "    for i in range(len(message_str)):\n",
    "        res = res * 256 + ord(message_str[i])\n",
    "    return res\n",
    "\n",
    "def ConvertToStr(n):\n",
    "    res = \"\"\n",
    "    while n > 0:\n",
    "        res += chr(n % 256)\n",
    "        n //= 256\n",
    "    return res[::-1]\n",
    "\n",
    "def Encrypt(m, e, n):\n",
    "    m = ConvertToInt(m)\n",
    "    c = modularExponentiate(m,e,n)\n",
    "    return c\n",
    "\n",
    "def getPublicKey(phi_n):\n",
    "    e = random.randrange(1,phi_n)\n",
    "    while e < 1 or GCD(e,phi_n) != 1:\n",
    "        e = random.randrange(1,phi_n)\n",
    "    return e\n",
    "\n",
    "def getPrivateKey(e,p,q):\n",
    "    phi_n = (p - 1) * (q - 1)\n",
    "    d = modularInverse(e, phi_n)\n",
    "    return d\n",
    "\n",
    "def Decrypt(c, d, p, q):\n",
    "    m = modularExponentiate(c, d, p * q)\n",
    "    m = ConvertToStr(m)\n",
    "    return m\n",
    "\n",
    "\n",
    "def divideMsg(msg,n):\n",
    "    msg_blocks=[]\n",
    "    begin = 0\n",
    "    msg_len = len(msg)\n",
    "    step = math.floor(math.log(n,256))\n",
    "    if(msg_len > math.log(n,256)): #need to divide\n",
    "        for start in range(begin,len(msg),step):\n",
    "            if(start + step > len(msg)-1):\n",
    "                msg_blocks.append(msg[start:])\n",
    "            else: msg_blocks.append(msg[start:start+step])   \n",
    "    else: msg_blocks = msg\n",
    "    return msg_blocks"
   ]
  },
  {
   "cell_type": "code",
   "execution_count": 9,
   "metadata": {},
   "outputs": [],
   "source": [
    "\"\"\"\n",
    "Parameter generation\n",
    "on sign up generate large numbers of preferably 512 bits to be used as p and q\n",
    "then generate random e such that gcd(e,phi(n)) = 1\n",
    "e can be generated using nBitRandom then checking using GCD that the result is 1\n",
    "d is the modular inverse of e mod(phi(n))\n",
    "\"\"\"\n",
    "\n",
    "#generating p and q\n",
    "def nBitRandom(n):\n",
    "    return random.getrandbits(n) + (2**(n-1)+1)\n",
    "\n",
    "def fermatPrimalityTest(p):\n",
    "    \"\"\"\n",
    "    a:random integer\n",
    "    p:the number to test if prime or not\n",
    "    \"\"\"\n",
    "    if p <= 1: return False\n",
    "    for _ in range(1,102):\n",
    "        # a=np.random.randint(1,p,dtype=np.int64)\n",
    "        a=random.randint(1,p+1)\n",
    "        aPowP = modularExponentiate(a,p,p)\n",
    "        if (aPowP - a) % p != 0: return False\n",
    "    return True\n",
    "\n"
   ]
  },
  {
   "cell_type": "code",
   "execution_count": 15,
   "metadata": {},
   "outputs": [],
   "source": [
    "\"\"\"\n",
    "Brute force attack\n",
    "you need to factorize large n into 2 prime factors\n",
    "factorization of n is unique, once you find 2 primes ur done\n",
    "\n",
    "\"\"\"\n",
    "# brute force attack\n",
    "\n",
    "#responsible for factorization\n",
    "def bruteForceAttack(n):\n",
    "    #remember the properties of factorization, we only need to try up till square root of n\n",
    "    for i in range(3,int(n**0.5)+1,2):\n",
    "        if n % i == 0:\n",
    "            return i"
   ]
  },
  {
   "cell_type": "code",
   "execution_count": 16,
   "metadata": {},
   "outputs": [],
   "source": [
    "# Generate prime numbers less than N\n",
    "def generatePrimeNumbers(N):\n",
    "    # Returns a list of prime numbers less than N\n",
    "    primeNumbers = []\n",
    "    for i in range(2, N):\n",
    "        if fermatPrimalityTest(i):  # Fermat's primality test\n",
    "            primeNumbers.append(i)\n",
    "    return primeNumbers\n",
    "\n",
    "def generatePrime(n):\n",
    "    if n == 1: return -1\n",
    "    number = 1 \n",
    "    while not fermatPrimalityTest(number):\n",
    "        number = nBitRandom(n)\n",
    "    return number\n",
    "\n",
    "def generatePrimeModuli(n):\n",
    "    p = 1\n",
    "    q = 1\n",
    "    nArray = []\n",
    "    for i in range(2,int(n/2)+1):\n",
    "        p = generatePrime(i)\n",
    "        q = generatePrime(i)\n",
    "        while p==q:\n",
    "            q = generatePrime(i)\n",
    "        nArray.append(p*q)\n",
    "    return nArray\n"
   ]
  },
  {
   "cell_type": "code",
   "execution_count": 25,
   "metadata": {},
   "outputs": [],
   "source": [
    "#revised brute force attack\n",
    "def generate_N():\n",
    "    f = open(\"nValues.txt\", \"w\")\n",
    "    n = 64\n",
    "    p = 1\n",
    "    q = 1\n",
    "    nArray = []\n",
    "    for i in range(2,int(n/2)+1):\n",
    "        p = generatePrime(i)\n",
    "        q = generatePrime(i)\n",
    "        while ( p == q):\n",
    "            q = generatePrime(i)\n",
    "        n = p * q\n",
    "        f.write(\"n=\"+str(n)+\" p=\"+ str(p)+\" q=\"+str(q) + \"\\n\")\n",
    "        nArray.append(n)\n",
    "    return nArray\n",
    "def bruteForceTime(nArray):\n",
    "    f = open(\"nValuesAttack.txt\", \"w\")\n",
    "    time_taken = []\n",
    "    for n_val in nArray:\n",
    "        start_time = time.time()\n",
    "        p =bruteForceAttack(n_val ) # Brute force attack\n",
    "        end_time = time.time()\n",
    "        time_taken.append(end_time - start_time) # Time taken to brute force attack\n",
    "        f.write(\"n=\"+str(n_val)+\" p=\"+ str(p)+\" q=\"+str(n_val//p) + \"\\n\")\n",
    "    return time_taken\n",
    "    "
   ]
  },
  {
   "cell_type": "code",
   "execution_count": 26,
   "metadata": {},
   "outputs": [],
   "source": [
    "nArray= generate_N()\n",
    "time_taken = bruteForceTime(nArray)"
   ]
  },
  {
   "cell_type": "code",
   "execution_count": 28,
   "metadata": {},
   "outputs": [],
   "source": [
    "nArraybits = [len(bin(modulus)[2:]) for modulus in nArray]"
   ]
  },
  {
   "cell_type": "code",
   "execution_count": 30,
   "metadata": {},
   "outputs": [
    {
     "data": {
      "image/png": "[encoded data removed]",
      "text/plain": [
       "<Figure size 432x288 with 1 Axes>"
      ]
     },
     "metadata": {
      "needs_background": "light"
     },
     "output_type": "display_data"
    }
   ],
   "source": [
    "plt.plot(nArraybits, time_taken)\n",
    "plt.xlabel('N (bits)')\n",
    "plt.ylabel('Time taken (Sec)')\n",
    "plt.title('Brute Force Attack')\n",
    "plt.show()"
   ]
  },
  {
   "cell_type": "code",
   "execution_count": null,
   "metadata": {},
   "outputs": [],
   "source": []
  }
 ],
 "metadata": {
  "interpreter": {
   "hash": "82ed002fa2d4956f5c6aec99bcefe0f73a9f79882f3c9e2319b14958a5896ac5"
  },
  "kernelspec": {
   "display_name": "Python 3.9.0 64-bit",
   "language": "python",
   "name": "python3"
  },
  "language_info": {
   "codemirror_mode": {
    "name": "ipython",
    "version": 3
   },
   "file_extension": ".py",
   "mimetype": "text/x-python",
   "name": "python",
   "nbconvert_exporter": "python",
   "pygments_lexer": "ipython3",
   "version": "3.9.0"
  },
  "orig_nbformat": 4
 },
 "nbformat": 4,
 "nbformat_minor": 2
}
