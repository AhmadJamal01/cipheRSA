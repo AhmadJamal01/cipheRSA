{
 "cells": [
  {
   "cell_type": "code",
   "execution_count": 2,
   "metadata": {},
   "outputs": [],
   "source": [
    "from utils import *"
   ]
  },
  {
   "cell_type": "code",
   "execution_count": 3,
   "metadata": {},
   "outputs": [
    {
     "name": "stdout",
     "output_type": "stream",
     "text": [
      "47917\n",
      "48847\n",
      "The first parameter to the RSA_public_encrypt function is flen.\n"
     ]
    }
   ],
   "source": [
    "def chosenCipherTextAttack(ciphertext,e,p,q,n):\n",
    "    r  = random.randrange(2,n-1)\n",
    "    while GCD(r,n) != 1 :\n",
    "        r  = random.randrange(2,n-1)\n",
    "    r_pow_e = modularExponentiate(r,e,n)\n",
    "    msg_blocks=[]\n",
    "    # if not isinstance(ciphertext,int):\n",
    "    # ciphertext_in_int = [ConvertToInt(ciphertext_block) for ciphertext_block in ciphertext]\n",
    "    # else :\n",
    "        # ciphertext_in_int = ciphertext\n",
    "    for ciphertext_in_int in ciphertext:\n",
    "        c_dash = (ciphertext_in_int * r_pow_e) % n\n",
    "        phi_n = (p-1)*(q-1)\n",
    "        d = modularInverse(e,phi_n)\n",
    "        y = modularExponentiate(c_dash,d,n)\n",
    "        msg = (y * modularInverse(r,n)) % n\n",
    "        # msg = ConvertToStr(msg)\n",
    "        msg_blocks.append(y*modularInverse(r,n)% n) \n",
    "    msg_blocks = [ConvertToStr(msg) for msg in msg_blocks]\n",
    "    msg = \"\".join(msg_blocks)\n",
    "    return msg\n",
    "\n",
    "\n",
    "p = generatePrime(15)\n",
    "q = generatePrime(15)\n",
    "n = p*q\n",
    "e = getPublicKey((p-1)*(q-1))\n",
    "print(p)\n",
    "print(q)\n",
    "msg = 'The first parameter to the RSA_public_encrypt function is flen.'\n",
    "# msg_blocks = divideMsg(msg,n)\n",
    "# cipher = Encrypt(msg,e,n) \n",
    "# cipher = [Encrypt(block,e,n) for block in msg_blocks]\n",
    "# cipher = Encrypt(msg,e,n)\n",
    "# print(cipher)\n",
    "cipher = encryptEncompass(msg,e,n)\n",
    "msg2 = chosenCipherTextAttack(cipher,e,p,q,n)\n",
    "print(msg2)"
   ]
  },
  {
   "cell_type": "code",
   "execution_count": 4,
   "metadata": {},
   "outputs": [],
   "source": [
    "filepath = './input.txt'\n",
    "with open(filepath) as file:\n",
    "    lines = file.readlines()\n",
    "    lines = [line.rstrip() for line in lines]\n",
    "\n",
    "# e= 23917\n",
    "p = generatePrime(20)\n",
    "q = generatePrime(20)\n",
    "n = p*q\n",
    "e = getPublicKey((p-1)*(q-1))\n",
    "d = getPrivateKey(e,p,q)\n",
    "decrypted_lines =[]\n",
    "cipher = []\n",
    "for line in lines:\n",
    "    msg_blocks = divideMsg(line,n)\n",
    "    # print(cipher)\n",
    "    cipher_block = [Encrypt(block,e,n) for block in msg_blocks]\n",
    "    cipher.append(cipher_block)\n",
    "    decrypted = chosenCipherTextAttack(cipher_block,e,p,q,n)\n",
    "    decrypted_lines.append(decrypted)\n",
    "    # print(decrypted)\n",
    "# print(cipher)\n",
    "with open('./chosenCipher.txt', 'w') as write_file:\n",
    "    for cipher_block in cipher:\n",
    "        write_file.write(str(cipher_block) +'\\n')\n",
    "\n",
    "with open('./chosenCipherOutput.txt', 'w') as write_file:\n",
    "    for line in decrypted_lines:\n",
    "        write_file.write(line +'\\n')\n",
    "    \n"
   ]
  }
 ],
 "metadata": {
  "interpreter": {
   "hash": "82ed002fa2d4956f5c6aec99bcefe0f73a9f79882f3c9e2319b14958a5896ac5"
  },
  "kernelspec": {
   "display_name": "Python 3.9.0 64-bit",
   "language": "python",
   "name": "python3"
  },
  "language_info": {
   "codemirror_mode": {
    "name": "ipython",
    "version": 3
   },
   "file_extension": ".py",
   "mimetype": "text/x-python",
   "name": "python",
   "nbconvert_exporter": "python",
   "pygments_lexer": "ipython3",
   "version": "3.9.0"
  },
  "orig_nbformat": 4
 },
 "nbformat": 4,
 "nbformat_minor": 2
}
