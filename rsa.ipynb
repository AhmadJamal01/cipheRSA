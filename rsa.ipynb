{
 "cells": [
  {
   "cell_type": "code",
   "execution_count": 1,
   "metadata": {},
   "outputs": [
    {
     "data": {
      "text/plain": [
       "0"
      ]
     },
     "execution_count": 1,
     "metadata": {},
     "output_type": "execute_result"
    }
   ],
   "source": [
    "import sys, threading\n",
    "import numpy as np\n",
    "import random\n",
    "import time\n",
    "import matplotlib.pyplot as plt\n",
    "sys.setrecursionlimit(10 ** 7)\n",
    "threading.stack_size(2 ** 27)"
   ]
  },
  {
   "cell_type": "code",
   "execution_count": 2,
   "metadata": {},
   "outputs": [],
   "source": [
    "def GCD(a, b):\n",
    "    if b == 0:\n",
    "        return a\n",
    "    return GCD(b, a % b)\n",
    "\n",
    "def extendedEuclid(a, b):\n",
    "    if b == 0:\n",
    "        return (1, 0)\n",
    "    (x, y) = extendedEuclid(b, a % b)\n",
    "    k = a // b\n",
    "    return (y, x - k * y)\n",
    "\n",
    "def modularExponentiate(a, n, mod):\n",
    "    if n == 0:\n",
    "        return 1 % mod\n",
    "    elif n == 1:\n",
    "        return a % mod\n",
    "    else:\n",
    "        b = modularExponentiate(a, n // 2, mod)\n",
    "        b = b * b % mod\n",
    "        if n % 2 == 0:\n",
    "            return b\n",
    "        else:\n",
    "            return b * a % mod\n",
    "\n",
    "def modularInverse(a, n):\n",
    "    (b, x) = extendedEuclid(a, n)\n",
    "    if b < 0:\n",
    "        b = (b % n + n) % n  # we don't want -ve integers\n",
    "    return b\n",
    "\n",
    "#TODO: change the implementation\n",
    "#look up ways to change strings to ints for encryption\n",
    "def ConvertToInt(message_str):  \n",
    "    res = 0\n",
    "    for i in range(len(message_str)):\n",
    "        res = res * 256 + ord(message_str[i])\n",
    "    return res\n",
    "\n",
    "#TODO: change the implementation\n",
    "#look up ways to change strings to ints for encryption\n",
    "def ConvertToStr(n):\n",
    "    res = \"\"\n",
    "    while n > 0:\n",
    "        res += chr(n % 256)\n",
    "        n //= 256\n",
    "    return res[::-1]\n",
    "\n",
    "def Encrypt(m, e, n):\n",
    "    m = ConvertToInt(m)\n",
    "    c = modularExponentiate(m,e,n)\n",
    "    return c\n",
    "\n",
    "def getPrivateKey(e,p,q):\n",
    "    phi_n = (p - 1) * (q - 1)\n",
    "    d = modularInverse(e, phi_n)\n",
    "    return d\n",
    "\n",
    "def Decrypt(c, d, p, q):\n",
    "    m = modularExponentiate(c, d, p * q)\n",
    "    m = ConvertToStr(m)\n",
    "    return m"
   ]
  },
  {
   "cell_type": "code",
   "execution_count": 3,
   "metadata": {},
   "outputs": [
    {
     "name": "stdout",
     "output_type": "stream",
     "text": [
      "attack\n"
     ]
    }
   ],
   "source": [
    "#simple test\n",
    "p = 1000000007\n",
    "q = 1000000009\n",
    "exponent = 23917\n",
    "modulo = p * q\n",
    "ciphertext = Encrypt(\"attack\", exponent, modulo)\n",
    "d = getPrivateKey(exponent,p,q)\n",
    "message = Decrypt(ciphertext, d, p, q)\n",
    "print(message)"
   ]
  },
  {
   "cell_type": "code",
   "execution_count": 4,
   "metadata": {},
   "outputs": [],
   "source": [
    "\"\"\"\n",
    "Parameter generation\n",
    "on sign up generate large numbers of preferably 512 bits to be used as p and q\n",
    "then generate random e such that gcd(e,phi(n)) = 1\n",
    "e can be generated using nBitRandom then checking using GCD that the result is 1\n",
    "d is the modular inverse of e mod(phi(n))\n",
    "\"\"\"\n",
    "\n",
    "#generating p and q\n",
    "#https://www.geeksforgeeks.org/how-to-generate-large-prime-numbers-for-rsa-algorithm/\n",
    "def nBitRandom(n):\n",
    "    # Returns a random number of n bits\n",
    "    return(random.randrange(2**(n-1)+1, 2**n-1))\n",
    "\n",
    "def fermatPrimalityTest(p):\n",
    "    \"\"\"\n",
    "    a:random integer\n",
    "    p:the number to test if prime or not\n",
    "    \"\"\"\n",
    "    for i in range(1,102):\n",
    "        a=np.random.randint(1,p)\n",
    "        aPowP = modularExponentiate(a,p,p)\n",
    "        if (aPowP - a) % p != 0: return False\n",
    "    return True"
   ]
  },
  {
   "cell_type": "code",
   "execution_count": 8,
   "metadata": {},
   "outputs": [],
   "source": [
    "\"\"\"\n",
    "Brute force attack\n",
    "you need to factorize large n into 2 prime factors\n",
    "factorization of n is unique, once you find 2 primes ur done\n",
    "\n",
    "\"\"\"\n",
    "# brute force attack\n",
    "def bruteForceAttack(n):\n",
    "    for i in range(2,n):\n",
    "        if n % i == 0:\n",
    "            return i"
   ]
  },
  {
   "cell_type": "code",
   "execution_count": 9,
   "metadata": {},
   "outputs": [],
   "source": [
    "# Generate prime numbers less than N\n",
    "def generatePrimeNumbers(N):\n",
    "    # Returns a list of prime numbers less than N\n",
    "    primeNumbers = []\n",
    "    for i in range(2, N):\n",
    "        if fermatPrimalityTest(i):  # Fermat's primality test\n",
    "            primeNumbers.append(i)\n",
    "    return primeNumbers\n"
   ]
  },
  {
   "cell_type": "code",
   "execution_count": 28,
   "metadata": {},
   "outputs": [],
   "source": [
    "def testBruteForceTime(N):\n",
    "    time_taken = []\n",
    "    n_values =[]\n",
    "    # Test the time it takes to brute force attack\n",
    "    primeNumbers = generatePrimeNumbers(N) # Generate prime numbers less than N\n",
    "    for i in range(len(primeNumbers)):\n",
    "        for j in range(i+1, len(primeNumbers)):\n",
    "            n_val =primeNumbers[i]*primeNumbers[j] # n = p*q\n",
    "            n_values.append(n_val)\n",
    "            start_time = time.time()\n",
    "            bruteForceAttack(n_val) # Brute force attack\n",
    "            end_time = time.time()\n",
    "            time_taken.append(end_time - start_time) # Time taken to brute force attack\n",
    "    return time_taken , n_values"
   ]
  },
  {
   "cell_type": "code",
   "execution_count": 29,
   "metadata": {},
   "outputs": [],
   "source": [
    "time_vals , n_vals = testBruteForceTime(10000)"
   ]
  },
  {
   "cell_type": "code",
   "execution_count": 40,
   "metadata": {},
   "outputs": [
    {
     "data": {
      "image/png": "[encoded data removed]",
      "text/plain": [
       "<Figure size 432x288 with 1 Axes>"
      ]
     },
     "metadata": {
      "needs_background": "light"
     },
     "output_type": "display_data"
    }
   ],
   "source": [
    "plt.plot(n_vals, time_vals)\n",
    "plt.xlabel('N')\n",
    "plt.ylabel('Time taken')\n",
    "plt.title('Brute Force Attack')\n",
    "plt.show()"
   ]
  },
  {
   "cell_type": "code",
   "execution_count": null,
   "metadata": {},
   "outputs": [],
   "source": []
  }
 ],
 "metadata": {
  "interpreter": {
   "hash": "7679c2132d3f6ce38c9df14d554b39c06862b36a4e6689c81f9ae15bd0911d7d"
  },
  "kernelspec": {
   "display_name": "Python 3.8.8 ('base')",
   "language": "python",
   "name": "python3"
  },
  "language_info": {
   "codemirror_mode": {
    "name": "ipython",
    "version": 3
   },
   "file_extension": ".py",
   "mimetype": "text/x-python",
   "name": "python",
   "nbconvert_exporter": "python",
   "pygments_lexer": "ipython3",
   "version": "3.8.8"
  },
  "orig_nbformat": 4
 },
 "nbformat": 4,
 "nbformat_minor": 2
}
