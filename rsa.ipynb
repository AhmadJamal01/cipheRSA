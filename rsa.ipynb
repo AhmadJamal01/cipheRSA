{
 "cells": [
  {
   "cell_type": "code",
   "execution_count": 1,
   "metadata": {},
   "outputs": [],
   "source": [
    "import sys, threading\n",
    "import numpy as np\n",
    "import random\n",
    "import time\n",
    "import matplotlib.pyplot as plt\n",
    "sys.setrecursionlimit(10 ** 7)\n",
    "threading.stack_size(2 ** 27)\n",
    "random.seed(time.time())"
   ]
  },
  {
   "cell_type": "markdown",
   "metadata": {},
   "source": [
    "TODOS\n",
    "- Revise methods that are completely \"plagiarised\"\n",
    "- Need a method to distrubute Keys\n",
    "- Need to divide messages to blocks according to key length\n",
    "- Implement Essam's revision of the brute force attack\n",
    "- Implement chosen ciphertext attack\n",
    "\n",
    "DONE\n",
    "- Copied from number theory: \n",
    "  - GCD - Extended Euclid - Modular Exponentiation - Modular Inverse - Convert to Int - Convert to String - Encrypt - Decrypt\n",
    "- Generate random numbers of n binary bits\n",
    "- Primality Check\n",
    "- The two above points are responsible for public keys\n",
    "- Generate private keys from public keys\n"
   ]
  },
  {
   "cell_type": "code",
   "execution_count": 2,
   "metadata": {},
   "outputs": [],
   "source": [
    "def GCD(a, b):\n",
    "    if b == 0:\n",
    "        return a\n",
    "    return GCD(b, a % b)\n",
    "\n",
    "def extendedEuclid(a, b):\n",
    "    if b == 0:\n",
    "        return (1, 0)\n",
    "    (x, y) = extendedEuclid(b, a % b)\n",
    "    k = a // b\n",
    "    return (y, x - k * y)\n",
    "\n",
    "def modularExponentiate(a, n, mod):\n",
    "    if n == 0:\n",
    "        return 1 % mod\n",
    "    elif n == 1:\n",
    "        return a % mod\n",
    "    # else:\n",
    "    #     b = modularExponentiate(a, n // 2, mod)\n",
    "    #     b = b * b % mod\n",
    "    #     if n % 2 == 0:\n",
    "    #         return b\n",
    "    #     else:\n",
    "    #         return b * a % mod\n",
    "\n",
    "    #revised implementation from the reference\n",
    "    f = 1\n",
    "    binaryB = bin(n)[2:]\n",
    "    for i in range(len(binaryB)):\n",
    "        f = (f*f) % mod\n",
    "        if binaryB[i] == '1':\n",
    "            f = (f * a) % mod\n",
    "    return f\n",
    "\n",
    "# def revisedModExpo(a,n,mod):\n",
    "#     f = 1\n",
    "#     binaryB = bin(n)[2:]\n",
    "#     for i in range(len(binaryB)):\n",
    "#         f = (f*f) % mod\n",
    "#         if binaryB[i] == '1':\n",
    "#             f = (f * a) % mod\n",
    "#     return f\n",
    "\n",
    "    \n",
    "\n",
    "def modularInverse(a, n):\n",
    "    (b, x) = extendedEuclid(a, n)\n",
    "    if b < 0:\n",
    "        b = (b % n + n) % n  # we don't want -ve integers\n",
    "    return b\n",
    "\n",
    "#TODO: change the implementation\n",
    "#look up ways to change strings to ints for encryption\n",
    "def ConvertToInt(message_str):  \n",
    "    res = 0\n",
    "    for i in range(len(message_str)):\n",
    "        res = res * 256 + ord(message_str[i])\n",
    "    return res\n",
    "\n",
    "#TODO: change the implementation\n",
    "#look up ways to change strings to ints for encryption\n",
    "def ConvertToStr(n):\n",
    "    res = \"\"\n",
    "    while n > 0:\n",
    "        res += chr(n % 256)\n",
    "        n //= 256\n",
    "    return res[::-1]\n",
    "\n",
    "def Encrypt(m, e, n):\n",
    "    m = ConvertToInt(m)\n",
    "    c = modularExponentiate(m,e,n)\n",
    "    return c\n",
    "\n",
    "def getPrivateKey(e,p,q):\n",
    "    phi_n = (p - 1) * (q - 1)\n",
    "    d = modularInverse(e, phi_n)\n",
    "    return d\n",
    "\n",
    "def Decrypt(c, d, p, q):\n",
    "    m = modularExponentiate(c, d, p * q)\n",
    "    m = ConvertToStr(m)\n",
    "    return m"
   ]
  },
  {
   "cell_type": "code",
   "execution_count": 3,
   "metadata": {},
   "outputs": [],
   "source": [
    "#simple test\n",
    "p = 1000000007\n",
    "q = 1000000009\n",
    "exponent = 23917\n",
    "modulo = p * q\n",
    "ciphertext = Encrypt(\"attack\", exponent, modulo)\n",
    "d = getPrivateKey(exponent,p,q)\n",
    "message = Decrypt(ciphertext, d, p, q)\n",
    "#print(message)\n",
    "\n",
    "x = bin(2)[2:] #bin return 0bxx, sliced from position 2to get rid of 0b\n",
    "# print(x[1])\n",
    "\n",
    "# a = modularExponentiate(55,97,1234)\n",
    "# b = revisedModExpo(55,97,1234)\n",
    "# print(a,b)\n"
   ]
  },
  {
   "cell_type": "code",
   "execution_count": 4,
   "metadata": {},
   "outputs": [],
   "source": [
    "\"\"\"\n",
    "Parameter generation\n",
    "on sign up generate large numbers of preferably 512 bits to be used as p and q\n",
    "then generate random e such that gcd(e,phi(n)) = 1\n",
    "e can be generated using nBitRandom then checking using GCD that the result is 1\n",
    "d is the modular inverse of e mod(phi(n))\n",
    "\"\"\"\n",
    "\n",
    "#generating p and q\n",
    "#https://www.geeksforgeeks.org/how-to-generate-large-prime-numbers-for-rsa-algorithm/\n",
    "def nBitRandom(n):\n",
    "    # Returns a random number of n bits\n",
    "    # if n == 1 : return random.randrange(0,2)\n",
    "    # elif n == 2 : return random.randrange(0,4) \n",
    "    # else: return random.randrange(2**(n-1)+1, 2**n-1)\n",
    "    return random.getrandbits(n) + (2**(n-1)+1)\n",
    "    # return random.getrandbits(n) \n",
    "\n",
    "def fermatPrimalityTest(p):\n",
    "    \"\"\"\n",
    "    a:random integer\n",
    "    p:the number to test if prime or not\n",
    "    \"\"\"\n",
    "    if p <= 1: return False\n",
    "    for _ in range(1,102):\n",
    "        # a=np.random.randint(1,p,dtype=np.int64)\n",
    "        a=random.randint(1,p+1)\n",
    "        aPowP = modularExponentiate(a,p,p)\n",
    "        if (aPowP - a) % p != 0: return False\n",
    "    return True\n",
    "\n"
   ]
  },
  {
   "cell_type": "code",
   "execution_count": 5,
   "metadata": {},
   "outputs": [],
   "source": [
    "\"\"\"\n",
    "Brute force attack\n",
    "you need to factorize large n into 2 prime factors\n",
    "factorization of n is unique, once you find 2 primes ur done\n",
    "\n",
    "\"\"\"\n",
    "# brute force attack\n",
    "\n",
    "#responsible for factorization\n",
    "def bruteForceAttack(n):\n",
    "    #remember the properties of factorization, we only need to try up till square root of n\n",
    "    for i in range(2,int(np.sqrt(n))+1):\n",
    "        if n % i == 0:\n",
    "            return i"
   ]
  },
  {
   "cell_type": "code",
   "execution_count": 6,
   "metadata": {},
   "outputs": [],
   "source": [
    "# Generate prime numbers less than N\n",
    "def generatePrimeNumbers(N):\n",
    "    # Returns a list of prime numbers less than N\n",
    "    primeNumbers = []\n",
    "    for i in range(2, N):\n",
    "        if fermatPrimalityTest(i):  # Fermat's primality test\n",
    "            primeNumbers.append(i)\n",
    "    return primeNumbers\n",
    "\n",
    "def generatePrime(n):\n",
    "    if n == 1: return -1\n",
    "    number = 1 \n",
    "    while not fermatPrimalityTest(number):\n",
    "        number = nBitRandom(n)\n",
    "    return number\n"
   ]
  },
  {
   "cell_type": "code",
   "execution_count": 7,
   "metadata": {},
   "outputs": [],
   "source": [
    "def testBruteForceTime(N):\n",
    "    time_taken = []\n",
    "    n_values =[]\n",
    "    # Test the time it takes to brute force attack\n",
    "    primeNumbers = generatePrimeNumbers(N) # Generate prime numbers less than N\n",
    "    for i in range(len(primeNumbers)):\n",
    "        for j in range(i+1, len(primeNumbers)):\n",
    "            n_val =primeNumbers[i]*primeNumbers[j] # n = p*q\n",
    "            n_values.append(n_val)\n",
    "            start_time = time.time()\n",
    "            bruteForceAttack(n_val) # Brute force attack\n",
    "            end_time = time.time()\n",
    "            time_taken.append(end_time - start_time) # Time taken to brute force attack\n",
    "    return time_taken , n_values"
   ]
  },
  {
   "cell_type": "code",
   "execution_count": 8,
   "metadata": {},
   "outputs": [],
   "source": [
    "# time_vals , n_vals = testBruteForceTime(10000)"
   ]
  },
  {
   "cell_type": "code",
   "execution_count": 9,
   "metadata": {},
   "outputs": [],
   "source": [
    "# plt.plot(n_vals, time_vals)\n",
    "# plt.xlabel('N')\n",
    "# plt.ylabel('Time taken')\n",
    "# plt.title('Brute Force Attack')\n",
    "# plt.show()"
   ]
  },
  {
   "cell_type": "code",
   "execution_count": 10,
   "metadata": {},
   "outputs": [
    {
     "data": {
      "text/plain": [
       "[15,\n",
       " 77,\n",
       " 323,\n",
       " 1369,\n",
       " 3233,\n",
       " 14359,\n",
       " 52447,\n",
       " 157609,\n",
       " 931831,\n",
       " 3275861,\n",
       " 14092405,\n",
       " 69113791,\n",
       " 192383953,\n",
       " 1398496873,\n",
       " 5175220487,\n",
       " 14796805937,\n",
       " 29180212879,\n",
       " 195325360799,\n",
       " 476837093077,\n",
       " 2220368731897,\n",
       " 25988264710207,\n",
       " 103162177149487,\n",
       " 306393550960843,\n",
       " 1480897834769729,\n",
       " 2966652627829711,\n",
       " 13578799079380771,\n",
       " 27951608766239789,\n",
       " 374220765062455439,\n",
       " 436860319151467711,\n",
       " 2930703112792423933,\n",
       " 14954038495052484283]"
      ]
     },
     "execution_count": 10,
     "metadata": {},
     "output_type": "execute_result"
    }
   ],
   "source": [
    "#revised brute force attack\n",
    "def bruteForceTime():\n",
    "    n = 64\n",
    "    p = 1\n",
    "    q = 1\n",
    "    nArray = []\n",
    "    for i in range(2,int(n/2)+1):\n",
    "        # for _ in range(2):\n",
    "            # while (not fermatPrimalityTest(p)):\n",
    "            #     p = nBitRandom(i)\n",
    "            # while (not fermatPrimalityTest(q)):\n",
    "            #     q = nBitRandom(i)\n",
    "        p = generatePrime(i)\n",
    "        q = generatePrime(i)\n",
    "        nArray.append(p*q)\n",
    "    return nArray\n",
    "\n",
    "    # time_taken = []\n",
    "    # for n_val in nArray:\n",
    "    #     start_time = time.time()\n",
    "    #     bruteForceAttack(n_val ) # Brute force attack\n",
    "    #     end_time = time.time()\n",
    "    #     time_taken.append(end_time - start_time) # Time taken to brute force attack\n",
    "    # return nArray, time_taken\n",
    "\n",
    "bruteForceTime()\n",
    "    "
   ]
  },
  {
   "cell_type": "code",
   "execution_count": 17,
   "metadata": {},
   "outputs": [
    {
     "name": "stdout",
     "output_type": "stream",
     "text": [
      "1001011001111010100101111111011100011100001010101011010010100000 64\n"
     ]
    }
   ],
   "source": [
    "x = nBitRandom(64)\n",
    "x = (bin(x)[2:])\n",
    "y = len((x))\n",
    "print(x,y)\n",
    "x = nBitRandom(32)\n",
    "y = nBitRandom(32)\n",
    "n = x*y\n",
    "print(bin(n)[2:],len(bin(n)[2:]))"
   ]
  },
  {
   "cell_type": "code",
   "execution_count": null,
   "metadata": {},
   "outputs": [],
   "source": [
    "nArray, time_taken = bruteForceTime()"
   ]
  },
  {
   "cell_type": "code",
   "execution_count": 35,
   "metadata": {},
   "outputs": [
    {
     "data": {
      "image/png": "[encoded data removed]",
      "text/plain": [
       "<Figure size 432x288 with 1 Axes>"
      ]
     },
     "metadata": {
      "needs_background": "light"
     },
     "output_type": "display_data"
    }
   ],
   "source": [
    "plt.plot(nArray, time_taken)\n",
    "plt.xlabel('N')\n",
    "plt.ylabel('Time taken')\n",
    "plt.title('Brute Force Attack')\n",
    "plt.show()"
   ]
  },
  {
   "cell_type": "code",
   "execution_count": null,
   "metadata": {},
   "outputs": [],
   "source": []
  }
 ],
 "metadata": {
  "interpreter": {
   "hash": "82ed002fa2d4956f5c6aec99bcefe0f73a9f79882f3c9e2319b14958a5896ac5"
  },
  "kernelspec": {
   "display_name": "Python 3.9.0 64-bit",
   "language": "python",
   "name": "python3"
  },
  "language_info": {
   "codemirror_mode": {
    "name": "ipython",
    "version": 3
   },
   "file_extension": ".py",
   "mimetype": "text/x-python",
   "name": "python",
   "nbconvert_exporter": "python",
   "pygments_lexer": "ipython3",
   "version": "3.9.0"
  },
  "orig_nbformat": 4
 },
 "nbformat": 4,
 "nbformat_minor": 2
}
