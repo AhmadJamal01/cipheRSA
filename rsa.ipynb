{
 "cells": [
  {
   "cell_type": "code",
   "execution_count": 1,
   "metadata": {},
   "outputs": [
    {
     "data": {
      "text/plain": [
       "0"
      ]
     },
     "execution_count": 1,
     "metadata": {},
     "output_type": "execute_result"
    }
   ],
   "source": [
    "import sys, threading\n",
    "import numpy as np\n",
    "import random\n",
    "sys.setrecursionlimit(10 ** 7)\n",
    "threading.stack_size(2 ** 27)"
   ]
  },
  {
   "cell_type": "code",
   "execution_count": 9,
   "metadata": {},
   "outputs": [],
   "source": [
    "def GCD(a, b):\n",
    "    if b == 0:\n",
    "        return a\n",
    "    return GCD(b, a % b)\n",
    "\n",
    "def extendedEuclid(a, b):\n",
    "    if b == 0:\n",
    "        return (1, 0)\n",
    "    (x, y) = extendedEuclid(b, a % b)\n",
    "    k = a // b\n",
    "    return (y, x - k * y)\n",
    "\n",
    "def modularExponentiate(a, n, mod):\n",
    "    if n == 0:\n",
    "        return 1 % mod\n",
    "    elif n == 1:\n",
    "        return a % mod\n",
    "    else:\n",
    "        b = modularExponentiate(a, n // 2, mod)\n",
    "        b = b * b % mod\n",
    "        if n % 2 == 0:\n",
    "            return b\n",
    "        else:\n",
    "            return b * a % mod\n",
    "\n",
    "def modularInverse(a, n):\n",
    "    (b, x) = extendedEuclid(a, n)\n",
    "    if b < 0:\n",
    "        b = (b % n + n) % n  # we don't want -ve integers\n",
    "    return b\n",
    "\n",
    "#TODO: change the implementation\n",
    "#look up ways to change strings to ints for encryption\n",
    "def ConvertToInt(message_str):  \n",
    "    res = 0\n",
    "    for i in range(len(message_str)):\n",
    "        res = res * 256 + ord(message_str[i])\n",
    "    return res\n",
    "\n",
    "#TODO: change the implementation\n",
    "#look up ways to change strings to ints for encryption\n",
    "def ConvertToStr(n):\n",
    "    res = \"\"\n",
    "    while n > 0:\n",
    "        res += chr(n % 256)\n",
    "        n //= 256\n",
    "    return res[::-1]\n",
    "\n",
    "def Encrypt(m, e, n):\n",
    "    m = ConvertToInt(m)\n",
    "    c = modularExponentiate(m,e,n)\n",
    "    return c\n",
    "\n",
    "def getPrivateKey(e,p,q):\n",
    "    phi_n = (p - 1) * (q - 1)\n",
    "    d = modularInverse(e, phi_n)\n",
    "    return d\n",
    "\n",
    "def Decrypt(c, d, p, q):\n",
    "    m = modularExponentiate(c, d, p * q)\n",
    "    m = ConvertToStr(m)\n",
    "    return m"
   ]
  },
  {
   "cell_type": "code",
   "execution_count": 10,
   "metadata": {},
   "outputs": [
    {
     "name": "stdout",
     "output_type": "stream",
     "text": [
      "attack\n"
     ]
    }
   ],
   "source": [
    "#simple test\n",
    "p = 1000000007\n",
    "q = 1000000009\n",
    "exponent = 23917\n",
    "modulo = p * q\n",
    "ciphertext = Encrypt(\"attack\", exponent, modulo)\n",
    "d = getPrivateKey(exponent,p,q)\n",
    "message = Decrypt(ciphertext, d, p, q)\n",
    "print(message)"
   ]
  },
  {
   "cell_type": "code",
   "execution_count": null,
   "metadata": {},
   "outputs": [],
   "source": [
    "\"\"\"\n",
    "Parameter generation\n",
    "on sign up generate large numbers of preferably 512 bits to be used as p and q\n",
    "then generate random e such that gcd(e,phi(n)) = 1\n",
    "e can be generated using nBitRandom then checking using GCD that the result is 1\n",
    "d is the modular inverse of e mod(phi(n))\n",
    "\"\"\"\n",
    "\n",
    "#generating p and q\n",
    "#https://www.geeksforgeeks.org/how-to-generate-large-prime-numbers-for-rsa-algorithm/\n",
    "def nBitRandom(n):\n",
    "    # Returns a random number of n bits\n",
    "    return(random.randrange(2**(n-1)+1, 2**n-1))\n",
    "\n",
    "def fermatPrimalityTest(p):\n",
    "    \"\"\"\n",
    "    a:random integer\n",
    "    p:the number to test if prime or not\n",
    "    \"\"\"\n",
    "    for i in range(1,102):\n",
    "        a=np.random.randint(0,1000)\n",
    "        aPowP = modularExponentiate(a,p,p)\n",
    "        return True if (aPowP - a) % p == 0 else False"
   ]
  },
  {
   "cell_type": "code",
   "execution_count": null,
   "metadata": {},
   "outputs": [],
   "source": [
    "\"\"\"\n",
    "Brute force attack\n",
    "you need to factorize large n into 2 prime factors\n",
    "factorization of n is unique, once you find 2 primes ur done\n",
    "\n",
    "\"\"\""
   ]
  }
 ],
 "metadata": {
  "interpreter": {
   "hash": "82ed002fa2d4956f5c6aec99bcefe0f73a9f79882f3c9e2319b14958a5896ac5"
  },
  "kernelspec": {
   "display_name": "Python 3.9.0 64-bit",
   "language": "python",
   "name": "python3"
  },
  "language_info": {
   "codemirror_mode": {
    "name": "ipython",
    "version": 3
   },
   "file_extension": ".py",
   "mimetype": "text/x-python",
   "name": "python",
   "nbconvert_exporter": "python",
   "pygments_lexer": "ipython3",
   "version": "3.9.0"
  },
  "orig_nbformat": 4
 },
 "nbformat": 4,
 "nbformat_minor": 2
}
