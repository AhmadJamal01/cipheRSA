{
 "cells": [
  {
   "cell_type": "code",
   "execution_count": 1,
   "metadata": {},
   "outputs": [],
   "source": [
    "import sys, threading\n",
    "import numpy as np\n",
    "import random\n",
    "import time\n",
    "import matplotlib.pyplot as plt\n",
    "from utils import *\n",
    "sys.setrecursionlimit(10 ** 7)\n",
    "threading.stack_size(2 ** 27)\n",
    "random.seed(time.time())"
   ]
  },
  {
   "cell_type": "code",
   "execution_count": 2,
   "metadata": {},
   "outputs": [],
   "source": [
    "def parametersTxtFile(n):\n",
    "    p = 1\n",
    "    q = 1\n",
    "    nArray = []\n",
    "    tab = '\\t\\t\\t\\t\\t\\t'\n",
    "    file = open(\"parameters.txt\",'w')  # write in text mode\n",
    "    file.write(f\"p{tab}q{tab}n{tab}phi_n\\n\")\n",
    "    for i in range(2,int(n/2)+1):\n",
    "        p = generatePrime(i)    \n",
    "        q = generatePrime(i)    \n",
    "        while p==q:\n",
    "            q = generatePrime(i)\n",
    "        n = p*q\n",
    "        phi_n = (p-1)*(q-1)\n",
    "        file.write(f\"p{tab}q{tab}n{tab}phi_n\\n\")\n",
    "    file.close()\n"
   ]
  },
  {
   "cell_type": "code",
   "execution_count": 3,
   "metadata": {},
   "outputs": [],
   "source": [
    "def generateParamsConstE(N):\n",
    "    nparr_n = []\n",
    "    nparr_phi = []\n",
    "    e = 7\n",
    "    for i in range(3,N):\n",
    "        p = generatePrime(i)\n",
    "        q = generatePrime(i)\n",
    "        # n = p * q\n",
    "        phi_n = (p-1)*(q-1)\n",
    "        while p == q or GCD(e,phi_n)!=1 or e>=phi_n:\n",
    "            q = generatePrime(i)\n",
    "            phi_n = (p-1)*(q-1)\n",
    "        n = p*q\n",
    "        print(n, phi_n)\n",
    "        nparr_n.append(n)\n",
    "        nparr_phi.append(phi_n)\n",
    "    np.save('constE_n.npy',nparr_n,allow_pickle=True)\n",
    "    np.save('constE_phi.npy',nparr_phi,allow_pickle=True)\n",
    "\n",
    "# generateParamsConstE()\n",
    "# arr1 = np.load('./constE_n.npy',allow_pickle=True)\n",
    "# arr2= np.load('./constE_phi.npy',allow_pickle=True)\n",
    "# print(arr1)\n",
    "# print(arr2)\n"
   ]
  },
  {
   "cell_type": "code",
   "execution_count": 4,
   "metadata": {},
   "outputs": [
    {
     "data": {
      "image/png": "[encoded data removed]",
      "text/plain": [
       "<Figure size 432x288 with 1 Axes>"
      ]
     },
     "metadata": {
      "needs_background": "light"
     },
     "output_type": "display_data"
    }
   ],
   "source": [
    "def encryptionTimeConstE(n):\n",
    "    time_taken = [] \n",
    "    message = \"\"\"\n",
    "    This is a comparison of time against key length. \n",
    "    This should be a very long message so I'm increasing its length.\n",
    "    In this function, e is constant while phi_n is changing\n",
    "    \"\"\"*10\n",
    "    es = np.load('./encryptionVSkey/e_array_e.npy',allow_pickle=True)\n",
    "    moduli = np.load('./encryptionVSkey/n_array_e.npy',allow_pickle=True)\n",
    "    for i in range(1,n):\n",
    "        msg_blocks = divideMsg(message,moduli[i])\n",
    "        start_time = time.time()\n",
    "        for _ in range(100):\n",
    "            # encypted_msg = [Encrypt(block,es[i],moduli[i])for block in msg_blocks]\n",
    "            encypted_msg = Encrypt(msg_blocks[0],es[i],moduli[i])\n",
    "        end_time = time.time()\n",
    "        time_taken.append((end_time - start_time)/100) # Time taken to brute force attack\n",
    "    return moduli[1:n],time_taken\n",
    "\n",
    "es = np.load('./encryptionVSkey/e_array_e.npy',allow_pickle=True)\n",
    "moduli, times = encryptionTimeConstE(len(es))\n",
    "moduli = [len(bin(modulus)[2:]) for modulus in moduli]\n",
    "plt.plot(moduli, times)\n",
    "plt.xlabel('Key Length')\n",
    "plt.ylabel('Time taken')\n",
    "plt.title('Key Length vs Time taken to encypt')\n",
    "plt.show()"
   ]
  }
 ],
 "metadata": {
  "interpreter": {
   "hash": "82ed002fa2d4956f5c6aec99bcefe0f73a9f79882f3c9e2319b14958a5896ac5"
  },
  "kernelspec": {
   "display_name": "Python 3.9.0 64-bit",
   "language": "python",
   "name": "python3"
  },
  "language_info": {
   "codemirror_mode": {
    "name": "ipython",
    "version": 3
   },
   "file_extension": ".py",
   "mimetype": "text/x-python",
   "name": "python",
   "nbconvert_exporter": "python",
   "pygments_lexer": "ipython3",
   "version": "3.9.0"
  },
  "orig_nbformat": 4
 },
 "nbformat": 4,
 "nbformat_minor": 2
}
